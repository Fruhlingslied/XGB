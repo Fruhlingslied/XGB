{
 "cells": [
  {
   "cell_type": "markdown",
   "metadata": {},
   "source": [
    "### 一.损失函数\n",
    "\n",
    "这一节对xgboost回归做介绍，xgboost共实现了5种类型的回归，分别是squarederror、logistic、poisson、gamma、tweedie回归，下面主要对前两种进行推导实现，剩余三种放到下一节  \n",
    "\n",
    "#### squarederror\n",
    "即损失函数为平方误差的回归模型：  \n",
    "\n",
    "$$\n",
    "L(y,\\hat{y})=\\frac{1}{2}(y-\\hat{y})^2\n",
    "$$  \n",
    "\n",
    "所以一阶导和二阶导分别为：   \n",
    "\n",
    "$$\n",
    "\\frac{\\partial L(y,\\hat{y})}{\\partial \\hat{y}}=\\hat{y}-y\\\\\n",
    "\\frac{\\partial^2 L(y,\\hat{y})}{{\\partial \\hat{y}}^2}=1.0\\\\\n",
    "$$  "
   ]
  },
  {
   "cell_type": "markdown",
   "metadata": {},
   "source": [
    "#### logistic\n",
    "\n",
    "由于是回归任务，所以y也要套上`sigmoid`函数（用$\\sigma(\\cdot)$表示），损失函数：   \n",
    "\n",
    "$$\n",
    "L(y,\\hat{y})=(1-\\sigma(y))log(1-\\sigma(\\hat{y}))+\\sigma(y)log(\\sigma(\\hat{y}))\n",
    "$$\n",
    "\n",
    "一阶导和二阶导分别为：   \n",
    "\n",
    "$$\n",
    "\\frac{\\partial L(y,\\hat{y})}{\\partial \\hat{y}}=\\sigma(\\hat{y})-\\sigma(y)\\\\\n",
    "\\frac{\\partial^2 L(y,\\hat{y})}{{\\partial \\hat{y}}^2}=\\sigma(\\hat{y})(1-\\sigma(\\hat{y}))\\\\\n",
    "$$   \n"
   ]
  },
  {
   "cell_type": "markdown",
   "metadata": {},
   "source": [
    "### 二.代码实现\n",
    "具体流程与gbdt的回归类似，只是每次要计算一阶、二阶导数信息，同时基学习器要替换为上一节的xgboost回归树"
   ]
  },
  {
   "cell_type": "code",
   "execution_count": 1,
   "metadata": {},
   "outputs": [],
   "source": [
    "import os\n",
    "os.chdir('../')\n",
    "import matplotlib.pyplot as plt\n",
    "%matplotlib inline\n",
    "from ml_models.ensemble import XGBoostBaseTree\n",
    "from ml_models import utils\n",
    "import copy\n",
    "import numpy as np\n",
    "\n",
    "\"\"\"\n",
    "xgboost回归树的实现，封装到ml_models.ensemble\n",
    "\"\"\"\n",
    "\n",
    "class XGBoostRegressor(object):\n",
    "    def __init__(self, base_estimator=None, n_estimators=10, learning_rate=1.0, loss='squarederror'):\n",
    "        \"\"\"\n",
    "        :param base_estimator: 基学习器\n",
    "        :param n_estimators: 基学习器迭代数量\n",
    "        :param learning_rate: 学习率，降低后续基学习器的权重，避免过拟合\n",
    "        :param loss:损失函数，支持squarederror、logistic\n",
    "        \"\"\"\n",
    "        self.base_estimator = base_estimator\n",
    "        self.n_estimators = n_estimators\n",
    "        self.learning_rate = learning_rate\n",
    "        if self.base_estimator is None:\n",
    "            # 默认使用决策树桩\n",
    "            self.base_estimator = XGBoostBaseTree()\n",
    "        # 同质分类器\n",
    "        if type(base_estimator) != list:\n",
    "            estimator = self.base_estimator\n",
    "            self.base_estimator = [copy.deepcopy(estimator) for _ in range(0, self.n_estimators)]\n",
    "        # 异质分类器\n",
    "        else:\n",
    "            self.n_estimators = len(self.base_estimator)\n",
    "        self.loss = loss\n",
    "\n",
    "    def _get_gradient_hess(self, y, y_pred):\n",
    "        \"\"\"\n",
    "        获取一阶、二阶导数信息\n",
    "        :param y:真实值\n",
    "        :param y_pred:预测值\n",
    "        :return:\n",
    "        \"\"\"\n",
    "        if self.loss == 'squarederror':\n",
    "            return y_pred - y, np.ones_like(y)\n",
    "        elif self.loss == 'logistic':\n",
    "            return utils.sigmoid(y_pred) - utils.sigmoid(y), utils.sigmoid(y_pred) * (1 - utils.sigmoid(y_pred))\n",
    "\n",
    "    def fit(self, x, y):\n",
    "        y_pred = np.zeros_like(y)\n",
    "        g, h = self._get_gradient_hess(y, y_pred)\n",
    "        for index in range(0, self.n_estimators):\n",
    "            self.base_estimator[index].fit(x, g, h)\n",
    "            y_pred += self.base_estimator[index].predict(x) * self.learning_rate\n",
    "            g, h = self._get_gradient_hess(y, y_pred)\n",
    "\n",
    "    def predict(self, x):\n",
    "        rst_np = np.sum(\n",
    "            [self.base_estimator[0].predict(x)] +\n",
    "            [self.learning_rate * self.base_estimator[i].predict(x) for i in\n",
    "             range(1, self.n_estimators - 1)] +\n",
    "            [self.base_estimator[self.n_estimators - 1].predict(x)]\n",
    "            , axis=0)\n",
    "        return rst_np"
   ]
  },
  {
   "cell_type": "code",
   "execution_count": 2,
   "metadata": {
    "collapsed": true
   },
   "outputs": [
    {
     "name": "stderr",
     "output_type": "stream",
     "text": [
      "C:\\Users\\QR_Zh\\anaconda3\\lib\\site-packages\\sklearn\\utils\\deprecation.py:87: FutureWarning: Function load_boston is deprecated; `load_boston` is deprecated in 1.0 and will be removed in 1.2.\n",
      "\n",
      "    The Boston housing prices dataset has an ethical problem. You can refer to\n",
      "    the documentation of this function for further details.\n",
      "\n",
      "    The scikit-learn maintainers therefore strongly discourage the use of this\n",
      "    dataset unless the purpose of the code is to study and educate about\n",
      "    ethical issues in data science and machine learning.\n",
      "\n",
      "    In this special case, you can fetch the dataset from the original\n",
      "    source::\n",
      "\n",
      "        import pandas as pd\n",
      "        import numpy as np\n",
      "\n",
      "\n",
      "        data_url = \"http://lib.stat.cmu.edu/datasets/boston\"\n",
      "        raw_df = pd.read_csv(data_url, sep=\"\\s+\", skiprows=22, header=None)\n",
      "        data = np.hstack([raw_df.values[::2, :], raw_df.values[1::2, :2]])\n",
      "        target = raw_df.values[1::2, 2]\n",
      "\n",
      "    Alternative datasets include the California housing dataset (i.e.\n",
      "    :func:`~sklearn.datasets.fetch_california_housing`) and the Ames housing\n",
      "    dataset. You can load the datasets as follows::\n",
      "\n",
      "        from sklearn.datasets import fetch_california_housing\n",
      "        housing = fetch_california_housing()\n",
      "\n",
      "    for the California housing dataset and::\n",
      "\n",
      "        from sklearn.datasets import fetch_openml\n",
      "        housing = fetch_openml(name=\"house_prices\", as_frame=True)\n",
      "\n",
      "    for the Ames housing dataset.\n",
      "    \n",
      "  warnings.warn(msg, category=FutureWarning)\n"
     ]
    }
   ],
   "source": [
    "from sklearn.datasets import load_boston\n",
    "dataset = load_boston()\n",
    "data = dataset.data\n",
    "target = dataset.target"
   ]
  },
  {
   "cell_type": "code",
   "execution_count": 4,
   "metadata": {},
   "outputs": [],
   "source": [
    "xgr = XGBoostRegressor()\n",
    "xgr.fit(data,target)\n",
    "pred = xgr.predict(data)"
   ]
  },
  {
   "cell_type": "code",
   "execution_count": 5,
   "metadata": {},
   "outputs": [
    {
     "data": {
      "text/plain": [
       "array([24.04160316, 21.66934895, 34.79069003, 33.42726973, 36.22756701,\n",
       "       28.65984973, 22.94723739, 27.04502798, 16.58823639, 18.77005457,\n",
       "       14.98921602, 18.84973198, 21.66166827, 20.39269496, 18.27804686,\n",
       "       19.91696764, 23.01295398, 17.44731935, 20.1796217 , 18.13727166,\n",
       "       13.59520914, 19.59488918, 15.12984898, 14.53030356, 15.63162205,\n",
       "       13.84664665, 16.5776578 , 14.76621261, 18.3772974 , 20.9486218 ,\n",
       "       12.74699902, 14.58789563, 13.15232533, 13.11063538, 13.52508157,\n",
       "       18.897782  , 19.94870233, 20.99698429, 24.74942141, 30.84060385,\n",
       "       34.88776421, 26.60324036, 25.30572704, 24.61156496, 21.19078841,\n",
       "       19.37077324, 19.96627928, 16.6945302 , 14.44505404, 19.28822098,\n",
       "       19.69422762, 20.61806159, 25.05522957, 23.41321002, 18.89002416,\n",
       "       35.38967255, 24.72459928, 31.60347191, 23.33617533, 19.55644153,\n",
       "       18.69631291, 16.06275912, 22.24629978, 24.98646674, 32.97177832,\n",
       "       23.46691334, 19.34461972, 21.96081926, 17.29694822, 20.93525889,\n",
       "       24.21181296, 21.73358552, 22.75470661, 23.37800306, 24.08686601,\n",
       "       21.37469602, 20.04195487, 20.82924148, 21.15606748, 20.31738275,\n",
       "       27.89617284, 23.96736344, 24.89795296, 22.92345761, 23.85539709,\n",
       "       26.59053715, 22.56061639, 22.19987731, 23.62442559, 28.66641797,\n",
       "       22.66848744, 22.00182077, 22.89946068, 24.89795296, 20.5895504 ,\n",
       "       28.31566299, 21.417962  , 38.58345989, 43.80849121, 33.31612761,\n",
       "       27.50562789, 26.49439885, 18.63499787, 19.25195331, 20.05527774,\n",
       "       19.58102786, 19.50476225, 20.38852888, 19.79411963, 19.42497837,\n",
       "       21.67925731, 22.84161078, 18.69639483, 18.69028774, 18.44312987,\n",
       "       18.35660125, 21.19270145, 19.16647765, 20.4024524 , 19.35527073,\n",
       "       22.0375475 , 20.30327884, 20.46573675, 17.23114241, 18.81731849,\n",
       "       21.36816691, 15.77659696, 16.17402808, 18.02095747, 14.37220471,\n",
       "       19.2335012 , 19.56683453, 22.97420404, 18.40026153, 15.62857354,\n",
       "       17.93597842, 17.26665213, 17.20277565, 13.31873247, 17.66325115,\n",
       "       13.91439099, 14.40015079, 14.45398758, 14.45398758, 11.88525362,\n",
       "       13.80260618, 15.6684928 , 14.62164945, 17.7711214 , 15.41672705,\n",
       "       21.45114243, 19.65536901, 15.26897046, 19.36831924, 17.00221612,\n",
       "       15.58399362, 13.1353782 , 41.34477117, 24.29621337, 23.34738828,\n",
       "       26.95788591, 49.91951305, 49.97700785, 49.98299978, 22.69473089,\n",
       "       25.0505891 , 49.91352112, 23.76531613, 23.81546536, 22.32831182,\n",
       "       17.52291388, 19.11993105, 23.12350637, 23.65167644, 22.70929075,\n",
       "       29.36341188, 23.17632128, 24.59373403, 29.86449432, 37.29694012,\n",
       "       39.75188364, 36.2678748 , 37.90897253, 32.62303467, 26.40142979,\n",
       "       29.66428782, 49.8688427 , 31.85102619, 29.81834794, 34.8283416 ,\n",
       "       36.93416514, 30.48254848, 36.47664045, 31.03158355, 29.12782271,\n",
       "       49.98150184, 33.33471801, 30.36849043, 34.63712861, 34.88776421,\n",
       "       32.89272811, 24.07714318, 42.36697449, 48.50312794, 49.91656678,\n",
       "       22.53208362, 24.45752671, 22.48304451, 24.34846305, 20.04948686,\n",
       "       21.61343204, 19.30949079, 22.36022912, 27.99062056, 23.77367901,\n",
       "       24.97718569, 23.28234461, 28.6515268 , 21.49801919, 22.99863424,\n",
       "       26.73455424, 21.71861621, 27.4891207 , 30.14212924, 47.44332257,\n",
       "       47.44332257, 37.66672309, 31.69724879, 46.66548453, 31.51315847,\n",
       "       24.29372013, 31.69724879, 41.73283879, 48.41416566, 28.94904746,\n",
       "       24.07492357, 25.01424218, 31.59793474, 23.77800038, 23.34578222,\n",
       "       22.06975131, 20.10493174, 22.1430662 , 23.63853129, 17.59437203,\n",
       "       18.48187817, 24.3149275 , 20.57237924, 24.51259432, 26.21738677,\n",
       "       24.40683277, 24.76943283, 29.62000084, 42.75281846, 21.83097203,\n",
       "       20.85809007, 44.03908585, 50.10920839, 36.0833352 , 30.11589298,\n",
       "       33.7110612 , 43.16500137, 48.7656642 , 31.0542357 , 36.36066518,\n",
       "       22.81929519, 30.71561685, 49.96319927, 43.52065198, 20.77515504,\n",
       "       21.10548303, 25.13586965, 24.40639109, 35.17852378, 32.34594234,\n",
       "       31.98230598, 33.17334807, 33.06306811, 29.0280685 , 35.15664278,\n",
       "       45.39073962, 35.42793437, 46.02912089, 49.89913614, 32.18264952,\n",
       "       22.02311345, 20.20146772, 23.17014496, 22.35196314, 24.7837582 ,\n",
       "       28.52909175, 37.25636447, 27.8828286 , 23.92390888, 21.71716335,\n",
       "       28.61993149, 27.16994959, 20.388941  , 22.5476222 , 28.92872804,\n",
       "       24.8434696 , 21.9876836 , 26.31597458, 33.06555988, 36.2130217 ,\n",
       "       28.27862398, 33.40620147, 28.13731596, 22.74611486, 20.36891592,\n",
       "       16.23598758, 22.00506778, 19.34792271, 21.68573756, 23.84145074,\n",
       "       16.20603913, 17.73429101, 19.8160008 , 23.14646193, 21.01088327,\n",
       "       23.8903642 , 23.0644816 , 20.47938042, 18.50580639, 24.98127329,\n",
       "       24.61763692, 22.89429753, 22.11741445, 19.34312693, 22.59984256,\n",
       "       19.76761138, 17.02985942, 19.42670914, 22.21872004, 20.67734547,\n",
       "       21.04465547, 19.59049405, 18.53451681, 20.59011002, 18.97425152,\n",
       "       18.68850076, 32.64938368, 16.55235325, 23.85019795, 31.2067777 ,\n",
       "       17.47673471, 17.19108488, 23.15526847, 24.51050671, 26.56872062,\n",
       "       22.84596118, 24.06394498, 18.616819  , 30.13163697, 18.20467845,\n",
       "       20.66980967, 17.92441005, 21.68735489, 22.59798436, 22.59632109,\n",
       "       24.98076597, 19.93992312, 20.79953289, 16.95495846, 21.90195902,\n",
       "       27.53426468, 21.66454214, 23.10354538, 49.96127915, 49.96127915,\n",
       "       49.96127915, 49.96719063, 49.98080845, 10.78695858, 10.78695858,\n",
       "       15.08969302, 13.97352242, 13.26818994, 13.07584783, 10.10154229,\n",
       "       10.38944981, 10.84399526, 11.75645649, 11.75645649,  8.89767412,\n",
       "        7.32815347, 10.78695858,  7.35064304, 10.29815955, 11.58562489,\n",
       "       15.0553302 , 23.23513864,  9.60088074, 13.82888638, 12.69555013,\n",
       "       13.08637175, 12.54091721,  8.53178433, 10.78695858,  6.38888678,\n",
       "        5.60457862,  7.28233083, 12.06220339,  8.32815347,  8.50349685,\n",
       "        4.92631082, 11.84361409, 27.83448308, 17.21117616, 27.34435539,\n",
       "       14.97569236, 17.22905605, 17.84753979, 16.30687925,  6.99589698,\n",
       "        7.28972306,  7.61102855, 10.38486707,  8.74426851,  8.43067369,\n",
       "       16.60955439, 14.10119672, 20.78251564, 13.37759464, 11.74979624,\n",
       "        8.34207594, 10.21536178, 10.93864638, 10.9547004 ,  9.5442975 ,\n",
       "       14.59649529, 14.30384052, 16.06694781, 14.21897241, 11.6808924 ,\n",
       "       13.38770606,  9.61759731,  8.65335942,  8.32836608, 12.71577519,\n",
       "       10.48064883, 16.98538912, 18.45865838, 15.43993457, 10.87965642,\n",
       "       11.76510902, 14.88781608, 12.56754571, 14.08221446, 13.07130698,\n",
       "       13.4706566 , 15.2313283 , 16.1212626 , 17.7733139 , 14.83429296,\n",
       "       14.18736775, 12.72369115, 13.51017079, 14.94257836, 20.01587859,\n",
       "       16.27827684, 17.72476645, 19.39599596, 20.26955931, 21.37451963,\n",
       "       19.87537019, 19.0095373 , 19.06453495, 19.03311055, 20.05718837,\n",
       "       19.83864721, 19.55438703, 23.20012199, 29.8368223 , 13.74699902,\n",
       "       13.39743465, 16.66325115, 11.88273112, 14.70919584, 21.40200213,\n",
       "       23.00957081, 23.7458654 , 24.92768359, 21.68140314, 20.68424595,\n",
       "       21.27097762, 19.12445962, 20.58740941, 15.20302999,  7.59913916,\n",
       "        7.59913916, 13.60376137, 20.11580161, 21.71274401, 24.4685681 ,\n",
       "       23.08474338, 19.62549879, 18.30242999, 21.33980158, 17.47556434,\n",
       "       16.83220446, 22.41077132, 20.71758581, 23.89841103, 22.05528194,\n",
       "       11.8915451 ])"
      ]
     },
     "execution_count": 5,
     "metadata": {},
     "output_type": "execute_result"
    }
   ],
   "source": [
    "pred"
   ]
  },
  {
   "cell_type": "code",
   "execution_count": null,
   "metadata": {},
   "outputs": [],
   "source": []
  },
  {
   "cell_type": "code",
   "execution_count": null,
   "metadata": {},
   "outputs": [],
   "source": []
  },
  {
   "cell_type": "code",
   "execution_count": 2,
   "metadata": {},
   "outputs": [],
   "source": [
    "#测试\n",
    "data = np.linspace(1, 10, num=100)\n",
    "target = np.sin(data) + np.random.random(size=100)  # 添加噪声\n",
    "data = data.reshape((-1, 1))"
   ]
  },
  {
   "cell_type": "code",
   "execution_count": 3,
   "metadata": {},
   "outputs": [
    {
     "data": {
      "image/png": "[encoded data removed]",
      "text/plain": [
       "<matplotlib.figure.Figure at 0x20350e52cc0>"
      ]
     },
     "metadata": {},
     "output_type": "display_data"
    }
   ],
   "source": [
    "model = XGBoostRegressor(loss='squarederror')\n",
    "model.fit(data, target)\n",
    "plt.scatter(data, target)\n",
    "plt.plot(data, model.predict(data), color='r')\n",
    "plt.show()"
   ]
  },
  {
   "cell_type": "code",
   "execution_count": 4,
   "metadata": {},
   "outputs": [
    {
     "data": {
      "image/png": "[encoded data removed]",
      "text/plain": [
       "<matplotlib.figure.Figure at 0x20350e52da0>"
      ]
     },
     "metadata": {},
     "output_type": "display_data"
    }
   ],
   "source": [
    "model = XGBoostRegressor(loss='logistic')\n",
    "model.fit(data, target)\n",
    "plt.scatter(data, target)\n",
    "plt.plot(data, model.predict(data), color='r')\n",
    "plt.show()"
   ]
  },
  {
   "cell_type": "code",
   "execution_count": null,
   "metadata": {},
   "outputs": [],
   "source": []
  }
 ],
 "metadata": {
  "kernelspec": {
   "display_name": "Python 3 (ipykernel)",
   "language": "python",
   "name": "python3"
  },
  "language_info": {
   "codemirror_mode": {
    "name": "ipython",
    "version": 3
   },
   "file_extension": ".py",
   "mimetype": "text/x-python",
   "name": "python",
   "nbconvert_exporter": "python",
   "pygments_lexer": "ipython3",
   "version": "3.9.12"
  }
 },
 "nbformat": 4,
 "nbformat_minor": 2
}
